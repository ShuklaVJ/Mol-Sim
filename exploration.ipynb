# Molecular Similarity Analysis

import requests
from rdkit import Chem
from rdkit.Chem import AllChem
import numpy as np
import seaborn as sns
import matplotlib.pyplot as plt
import pandas as pd
from src.utils import TanimotoSimilarity
from src.data_fetch import fetch_smiles
from src.similarity import compute_similarities
from src.visualize import plot_similarity_matrix, plot_avg_similarity

# Fetch data
cids = [5280443, 10467, 312822, 2518, 234096, 5281416, 5351506, 86821, 965, 437080, 346340, 866, 857, 22395651, 985, 840, 5250, 5280460, 4819, 312827, 5281, 25203368, 262500, 5250, 327232, 437080, 262500, 312827, 234096, 985, 5281, 522740]
mols = fetch_smiles(cids)

# Compute similarities
similarity_matrix = compute_similarities(mols)
print(f"Similarity Matrix: \n{similarity_matrix}")

# Plot results
plot_similarity_matrix(similarity_matrix)
plot_avg_similarity(similarity_matrix)
